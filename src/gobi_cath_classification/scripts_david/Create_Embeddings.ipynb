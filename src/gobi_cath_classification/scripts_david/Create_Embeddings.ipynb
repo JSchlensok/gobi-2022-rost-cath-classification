{
  "nbformat": 4,
  "nbformat_minor": 0,
  "metadata": {
    "colab": {
      "name": "Create_Embeddings.ipynb",
      "provenance": [],
      "collapsed_sections": [],
      "machine_shape": "hm"
    },
    "kernelspec": {
      "name": "python3",
      "display_name": "Python 3"
    },
    "language_info": {
      "name": "python"
    },
    "accelerator": "GPU"
  },
  "cells": [
    {
      "cell_type": "markdown",
      "source": [
        "## **Notebook to create ProtT5 Embeddings**"
      ],
      "metadata": {
        "id": "_27ZktdGoqr4"
      }
    },
    {
      "cell_type": "markdown",
      "source": [
        "Printing info about the available graphics engine...."
      ],
      "metadata": {
        "id": "bTelALbGsPJd"
      }
    },
    {
      "cell_type": "code",
      "source": [
        "gpu_info = !nvidia-smi\n",
        "gpu_info = '\\n'.join(gpu_info)\n",
        "if gpu_info.find('failed') >= 0:\n",
        "  print('Not connected to a GPU')\n",
        "else:\n",
        "  print(gpu_info)"
      ],
      "metadata": {
        "id": "A_9BTn9_Qc4M"
      },
      "execution_count": null,
      "outputs": []
    },
    {
      "cell_type": "markdown",
      "source": [
        "Install the necessary requirements\n",
        "(Necessary files need to be saved in the content directory!)\n",
        "- install requirements.txt from the EAT repository\n",
        "- install the bioembeddings package"
      ],
      "metadata": {
        "id": "4f3pE7FepNw5"
      }
    },
    {
      "cell_type": "code",
      "source": [
        "!pip install -r requirements.txt\n",
        "!pip install bio-embeddings[all]"
      ],
      "metadata": {
        "id": "yBjZHPogi2UZ"
      },
      "execution_count": null,
      "outputs": []
    },
    {
      "cell_type": "markdown",
      "source": [
        "Import the necessary packages..."
      ],
      "metadata": {
        "id": "o_a0GE18sqZh"
      }
    },
    {
      "cell_type": "code",
      "source": [
        "import time\n",
        "import h5py\n",
        "from bio_embeddings.embed import ProtTransT5XLU50Embedder"
      ],
      "metadata": {
        "id": "fe5ZvMY4pS0A"
      },
      "execution_count": null,
      "outputs": []
    },
    {
      "cell_type": "markdown",
      "source": [
        "Class Embedder from https://github.com/Rostlab/EAT.git"
      ],
      "metadata": {
        "id": "YlGdWL2so-xf"
      }
    },
    {
      "cell_type": "code",
      "source": [
        "class Embedder():\n",
        "    def __init__(self):\n",
        "        self.embedder = ProtTransT5XLU50Embedder(half_model=True)\n",
        "\n",
        "    def write_embeddings(self, emb_p, embds):\n",
        "        with h5py.File(str(emb_p), \"w\") as hf:\n",
        "            for sequence_id, embedding in embds.items():\n",
        "                # noinspection PyUnboundLocalVariable\n",
        "                hf.create_dataset(sequence_id, data=embedding)\n",
        "        return None\n",
        "\n",
        "    def get_per_residue_embeddings(self, id2seq):\n",
        "        fasta_ids, seqs = zip(*[(fasta_id, seq)\n",
        "                              for fasta_id, seq in id2seq.items()])\n",
        "        print(\"Start generating embeddings. This process might take a few minutes.\")\n",
        "        start = time.time()\n",
        "        per_residue_embeddings = list(self.embedder.embed_many(list(seqs)))\n",
        "        id2embd = { fasta_id: per_residue_embeddings[idx]\n",
        "                       for idx, fasta_id in enumerate(list(fasta_ids))\n",
        "                   }\n",
        "        print(\"Creating embeddings took: {:.4f}[s]\".format(time.time()-start))\n",
        "        return id2embd\n",
        "\n",
        "    def get_per_sequence_embeddings(self, id2seq):\n",
        "        fasta_ids, seqs = zip(*[(fasta_id, seq)\n",
        "                              for fasta_id, seq in id2seq.items()])\n",
        "        print(\"Start generating embeddings. This process might take a few minutes.\")\n",
        "        start = time.time()\n",
        "        per_residue_embeddings = list(self.embedder.embed_many(list(seqs)))\n",
        "        id2embd = { fasta_id: per_residue_embeddings[idx].mean(axis=0)\n",
        "                       for idx, fasta_id in enumerate(list(fasta_ids))\n",
        "                   }\n",
        "        print(\"Creating embeddings took: {:.4f}[s]\".format(time.time()-start))\n",
        "        return id2embd"
      ],
      "metadata": {
        "id": "QTCV3cNKo66N"
      },
      "execution_count": null,
      "outputs": []
    },
    {
      "cell_type": "markdown",
      "source": [
        "Save all new domains from holdout-fasta into a dictionary"
      ],
      "metadata": {
        "id": "zlS3LIK5IWxC"
      }
    },
    {
      "cell_type": "code",
      "source": [
        "lines = open('holdout390.fasta', 'r').read().split('\\n')\n",
        "fasta_id = ''\n",
        "sequence = ''\n",
        "domains = {}\n",
        "for line in lines:\n",
        "  if line.__contains__(\">\"):\n",
        "    fasta_id = line.replace(\">\", \"\")\n",
        "  else:\n",
        "    sequence = line\n",
        "    domains[fasta_id] = sequence"
      ],
      "metadata": {
        "id": "1PO8q2pmIvzp"
      },
      "execution_count": null,
      "outputs": []
    },
    {
      "cell_type": "markdown",
      "source": [
        "Create instance of Embedder class and create embeddings for the created dictionary and safe to .h5 file..."
      ],
      "metadata": {
        "id": "SKgw1MfpF-yE"
      }
    },
    {
      "cell_type": "code",
      "source": [
        "my_embedder = Embedder()\n",
        "embeddings = my_embedder.get_per_residue_embeddings(domains)\n",
        "my_embedder.write_embeddings('temporal_holdout_set.h5', embeddings)"
      ],
      "metadata": {
        "id": "FTwub_g2GOd1",
        "colab": {
          "base_uri": "https://localhost:8080/"
        },
        "outputId": "8026f798-2f92-436b-f4ab-94bc32b35f63"
      },
      "execution_count": null,
      "outputs": [
        {
          "output_type": "stream",
          "name": "stdout",
          "text": [
            "Start generating embeddings. This process might take a few minutes.\n",
            "Creating embeddings took: 34.5840[s]\n"
          ]
        }
      ]
    },
    {
      "cell_type": "markdown",
      "source": [
        "Print out information about the created embeddings to check outcome"
      ],
      "metadata": {
        "id": "v62sW8g0tPJc"
      }
    },
    {
      "cell_type": "code",
      "source": [
        "filename = \"temporal_holdout_set.h5\"\n",
        "\n",
        "h5 = h5py.File(filename,'r')\n",
        "\n",
        "for key in h5.keys():\n",
        "  print(f\"{h5[key]}\")\n",
        "\n",
        "h5.close()"
      ],
      "metadata": {
        "id": "lTYtS9wWXoHG"
      },
      "execution_count": null,
      "outputs": []
    }
  ]
}